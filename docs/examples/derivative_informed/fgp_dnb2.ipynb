{
 "cells": [
  {
   "cell_type": "markdown",
   "metadata": {},
   "source": [
    "# Fast Net GP"
   ]
  },
  {
   "cell_type": "code",
   "execution_count": 1,
   "metadata": {
    "execution": {
     "iopub.execute_input": "2025-04-25T22:14:04.008462Z",
     "iopub.status.busy": "2025-04-25T22:14:04.008115Z",
     "iopub.status.idle": "2025-04-25T22:14:05.052236Z",
     "shell.execute_reply": "2025-04-25T22:14:05.051915Z"
    }
   },
   "outputs": [],
   "source": [
    "import fastgps\n",
    "import torch\n",
    "import numpy as np"
   ]
  },
  {
   "cell_type": "code",
   "execution_count": 2,
   "metadata": {
    "execution": {
     "iopub.execute_input": "2025-04-25T22:14:05.053566Z",
     "iopub.status.busy": "2025-04-25T22:14:05.053473Z",
     "iopub.status.idle": "2025-04-25T22:14:05.055081Z",
     "shell.execute_reply": "2025-04-25T22:14:05.054873Z"
    }
   },
   "outputs": [],
   "source": [
    "torch.set_default_dtype(torch.float64)"
   ]
  },
  {
   "cell_type": "markdown",
   "metadata": {},
   "source": [
    "## True Function"
   ]
  },
  {
   "cell_type": "code",
   "execution_count": 3,
   "metadata": {
    "execution": {
     "iopub.execute_input": "2025-04-25T22:14:05.056077Z",
     "iopub.status.busy": "2025-04-25T22:14:05.056017Z",
     "iopub.status.idle": "2025-04-25T22:14:05.059002Z",
     "shell.execute_reply": "2025-04-25T22:14:05.058784Z"
    }
   },
   "outputs": [
    {
     "name": "stdout",
     "output_type": "stream",
     "text": [
      "x.shape = (128, 2)\n",
      "y.shape = (3, 128)\n",
      "z.shape = (256, 2)\n"
     ]
    }
   ],
   "source": [
    "d = 2\n",
    "f = lambda x: x[:,1]*torch.sin(x[:,0])+x[:,0]*torch.cos(x[:,1])\n",
    "f0 = lambda x: x[:,1]*torch.cos(x[:,0])+torch.cos(x[:,1])\n",
    "f1 = lambda x: torch.sin(x[:,0])-x[:,0]*torch.sin(x[:,1])\n",
    "derivatives = [\n",
    "    torch.tensor([0,0]),\n",
    "    torch.tensor([1,0]),\n",
    "    torch.tensor([0,1]),\n",
    "]\n",
    "rng = torch.Generator().manual_seed(17)\n",
    "x = torch.rand((2**7,d),generator=rng) # random testing locations\n",
    "y = torch.cat([f(x)[None,:],f0(x)[None,:],f1(x)[None,:]],dim=0) # true values at random testing locations\n",
    "z = torch.rand((2**8,d),generator=rng) # other random locations at which to evaluate covariance\n",
    "print(\"x.shape = %s\"%str(tuple(x.shape)))\n",
    "print(\"y.shape = %s\"%str(tuple(y.shape)))\n",
    "print(\"z.shape = %s\"%str(tuple(z.shape)))"
   ]
  },
  {
   "cell_type": "markdown",
   "metadata": {},
   "source": [
    "## Construct Fast GP"
   ]
  },
  {
   "cell_type": "code",
   "execution_count": 4,
   "metadata": {
    "execution": {
     "iopub.execute_input": "2025-04-25T22:14:05.074054Z",
     "iopub.status.busy": "2025-04-25T22:14:05.073947Z",
     "iopub.status.idle": "2025-04-25T22:14:05.080512Z",
     "shell.execute_reply": "2025-04-25T22:14:05.080301Z"
    }
   },
   "outputs": [
    {
     "name": "stdout",
     "output_type": "stream",
     "text": [
      "i = 0\n",
      "\tx_next[0].shape = (64, 2)\n",
      "\ty_next[0].shape = (64,)\n",
      "i = 1\n",
      "\tx_next[1].shape = (8, 2)\n",
      "\ty_next[1].shape = (8,)\n",
      "i = 2\n",
      "\tx_next[2].shape = (256, 2)\n",
      "\ty_next[2].shape = (256,)\n"
     ]
    }
   ],
   "source": [
    "fgp = fastgps.FastGPDigitalNetB2(d,seed_for_seq=7,num_tasks=len(derivatives),derivatives=derivatives,alpha=4)\n",
    "x_next = fgp.get_x_next(n=[2**6,2**3,2**8])\n",
    "y_next = [f(x_next[0]),f0(x_next[1]),f1(x_next[2])]\n",
    "fgp.add_y_next(y_next)\n",
    "assert len(x_next)==len(y_next)\n",
    "for i in range(len(x_next)):\n",
    "    print(\"i = %d\"%i)\n",
    "    print(\"\\tx_next[%d].shape = %s\"%(i,str(tuple(x_next[i].shape))))\n",
    "    print(\"\\ty_next[%d].shape = %s\"%(i,str(tuple(y_next[i].shape))))"
   ]
  },
  {
   "cell_type": "code",
   "execution_count": 5,
   "metadata": {
    "execution": {
     "iopub.execute_input": "2025-04-25T22:14:05.081506Z",
     "iopub.status.busy": "2025-04-25T22:14:05.081436Z",
     "iopub.status.idle": "2025-04-25T22:14:05.106882Z",
     "shell.execute_reply": "2025-04-25T22:14:05.106638Z"
    }
   },
   "outputs": [
    {
     "name": "stdout",
     "output_type": "stream",
     "text": [
      "pmean.shape = (3, 128)\n",
      "l2 relative error = tensor([1.0072, 1.1007, 1.7281])\n"
     ]
    }
   ],
   "source": [
    "pmean = fgp.post_mean(x)\n",
    "print(\"pmean.shape = %s\"%str(tuple(pmean.shape)))\n",
    "print(\"l2 relative error =\",(torch.linalg.norm(y-pmean,dim=1)/torch.linalg.norm(y,dim=1)))"
   ]
  },
  {
   "cell_type": "code",
   "execution_count": 6,
   "metadata": {
    "execution": {
     "iopub.execute_input": "2025-04-25T22:14:05.108002Z",
     "iopub.status.busy": "2025-04-25T22:14:05.107913Z",
     "iopub.status.idle": "2025-04-25T22:14:05.981577Z",
     "shell.execute_reply": "2025-04-25T22:14:05.981299Z"
    }
   },
   "outputs": [
    {
     "name": "stdout",
     "output_type": "stream",
     "text": [
      "     iter of 5.0e+03 | loss       | term1      | term2     \n",
      "    ~~~~~~~~~~~~~~~~~~~~~~~~~~~~~~~~~~~~~~~~~~~~~~~~~~~~~~~\n",
      "            0.00e+00 | 5.52e+02   | 2.95e+01   | 4.71e+02  \n",
      "            5.00e+00 | 2.24e+02   | 1.74e+01   | -1.73e+02 \n",
      "            1.00e+01 | -1.94e+02  | 7.57e+02   | -1.75e+03 \n",
      "            1.50e+01 | -4.54e+02  | 2.25e+02   | -1.74e+03 \n",
      "            2.00e+01 | -5.64e+02  | 4.33e+02   | -2.16e+03 \n",
      "            2.50e+01 | -5.78e+02  | 3.09e+02   | -2.07e+03 \n",
      "            3.00e+01 | -5.79e+02  | 3.53e+02   | -2.11e+03 \n",
      "            3.50e+01 | -5.81e+02  | 3.49e+02   | -2.11e+03 \n",
      "            4.00e+01 | -5.82e+02  | 3.37e+02   | -2.10e+03 \n",
      "            4.50e+01 | -5.82e+02  | 3.34e+02   | -2.10e+03 \n",
      "            5.00e+01 | -5.82e+02  | 3.32e+02   | -2.10e+03 \n"
     ]
    },
    {
     "name": "stdout",
     "output_type": "stream",
     "text": [
      "            5.50e+01 | -5.82e+02  | 3.31e+02   | -2.10e+03 \n",
      "            6.00e+01 | -5.82e+02  | 3.30e+02   | -2.10e+03 \n",
      "            6.50e+01 | -5.83e+02  | 3.32e+02   | -2.10e+03 \n",
      "            6.60e+01 | -5.83e+02  | 3.30e+02   | -2.10e+03 \n"
     ]
    },
    {
     "data": {
      "text/plain": [
       "['iterations']"
      ]
     },
     "execution_count": 6,
     "metadata": {},
     "output_type": "execute_result"
    }
   ],
   "source": [
    "data = fgp.fit()\n",
    "list(data.keys())"
   ]
  },
  {
   "cell_type": "code",
   "execution_count": 7,
   "metadata": {
    "execution": {
     "iopub.execute_input": "2025-04-25T22:14:05.982838Z",
     "iopub.status.busy": "2025-04-25T22:14:05.982710Z",
     "iopub.status.idle": "2025-04-25T22:14:06.238672Z",
     "shell.execute_reply": "2025-04-25T22:14:06.238385Z"
    }
   },
   "outputs": [
    {
     "name": "stdout",
     "output_type": "stream",
     "text": [
      "pmean.shape = (3, 128)\n",
      "pvar.shape = (3, 128)\n",
      "q = 2.58\n",
      "ci_low.shape = (3, 128)\n",
      "ci_high.shape = (3, 128)\n",
      "l2 relative error = tensor([0.2048, 0.4081, 0.0215])\n",
      "pcov.shape = (3, 3, 128, 128)\n"
     ]
    },
    {
     "name": "stdout",
     "output_type": "stream",
     "text": [
      "pcov2.shape = (3, 3, 128, 256)\n"
     ]
    }
   ],
   "source": [
    "pmean,pvar,q,ci_low,ci_high = fgp.post_ci(x,confidence=0.99)\n",
    "print(\"pmean.shape = %s\"%str(tuple(pmean.shape)))\n",
    "print(\"pvar.shape = %s\"%str(tuple(pvar.shape)))\n",
    "print(\"q = %.2f\"%q)\n",
    "print(\"ci_low.shape = %s\"%str(tuple(ci_low.shape)))\n",
    "print(\"ci_high.shape = %s\"%str(tuple(ci_high.shape)))\n",
    "print(\"l2 relative error =\",(torch.linalg.norm(y-pmean,dim=1)/torch.linalg.norm(y,dim=1)))\n",
    "pcov = fgp.post_cov(x,x)\n",
    "print(\"pcov.shape = %s\"%str(tuple(pcov.shape)))\n",
    "_range0,_rangen1 = torch.arange(pcov.size(0)),torch.arange(pcov.size(-1))\n",
    "assert torch.allclose(pcov[_range0,_range0][:,_rangen1,_rangen1],pvar) and (pvar>=0).all()\n",
    "pcov2 = fgp.post_cov(x,z)\n",
    "print(\"pcov2.shape = %s\"%str(tuple(pcov2.shape)))"
   ]
  },
  {
   "cell_type": "code",
   "execution_count": 8,
   "metadata": {
    "execution": {
     "iopub.execute_input": "2025-04-25T22:14:06.239986Z",
     "iopub.status.busy": "2025-04-25T22:14:06.239903Z",
     "iopub.status.idle": "2025-04-25T22:14:06.243106Z",
     "shell.execute_reply": "2025-04-25T22:14:06.242859Z"
    }
   },
   "outputs": [
    {
     "name": "stdout",
     "output_type": "stream",
     "text": [
      "pcmean = tensor([67.8907, 67.8907, 67.8907])\n",
      "pcvar = tensor([0., 0., 0.])\n",
      "cci_low = tensor([67.8907, 67.8907, 67.8907])\n",
      "cci_high tensor([67.8907, 67.8907, 67.8907])\n"
     ]
    }
   ],
   "source": [
    "pcmean,pcvar,q,cci_low,cci_high = fgp.post_cubature_ci(confidence=0.99)\n",
    "print(\"pcmean =\",pcmean)\n",
    "print(\"pcvar =\",pcvar)\n",
    "print(\"cci_low =\",cci_low)\n",
    "print(\"cci_high\",cci_high)"
   ]
  },
  {
   "cell_type": "markdown",
   "metadata": {},
   "source": [
    "## Project and Increase Sample Size"
   ]
  },
  {
   "cell_type": "code",
   "execution_count": 9,
   "metadata": {
    "execution": {
     "iopub.execute_input": "2025-04-25T22:14:06.244303Z",
     "iopub.status.busy": "2025-04-25T22:14:06.244231Z",
     "iopub.status.idle": "2025-04-25T22:14:06.978865Z",
     "shell.execute_reply": "2025-04-25T22:14:06.978433Z"
    }
   },
   "outputs": [],
   "source": [
    "n_new = fgp.n*torch.tensor([4,2,8])\n",
    "pcov_future = fgp.post_cov(x,z,n=n_new)\n",
    "pvar_future = fgp.post_var(x,n=n_new)\n",
    "pcvar_future = fgp.post_cubature_var(n=n_new)"
   ]
  },
  {
   "cell_type": "code",
   "execution_count": 10,
   "metadata": {
    "execution": {
     "iopub.execute_input": "2025-04-25T22:14:06.980208Z",
     "iopub.status.busy": "2025-04-25T22:14:06.980125Z",
     "iopub.status.idle": "2025-04-25T22:14:07.761087Z",
     "shell.execute_reply": "2025-04-25T22:14:07.760616Z"
    }
   },
   "outputs": [
    {
     "name": "stdout",
     "output_type": "stream",
     "text": [
      "torch.Size([192])\n",
      "torch.Size([8])\n",
      "torch.Size([1792])\n",
      "l2 relative error = tensor([0.1800, 0.4432, 0.0213])\n"
     ]
    }
   ],
   "source": [
    "x_next = fgp.get_x_next(n_new)\n",
    "y_next = [f(x_next[0]),f0(x_next[1]),f1(x_next[2])]\n",
    "for _y in y_next:\n",
    "    print(_y.shape)\n",
    "fgp.add_y_next(y_next)\n",
    "print(\"l2 relative error =\",(torch.linalg.norm(y-fgp.post_mean(x),dim=1)/torch.linalg.norm(y,dim=1)))\n",
    "assert torch.allclose(fgp.post_cov(x,z),pcov_future)\n",
    "assert torch.allclose(fgp.post_var(x),pvar_future)\n",
    "assert torch.allclose(fgp.post_cubature_var(),pcvar_future)"
   ]
  },
  {
   "cell_type": "code",
   "execution_count": 11,
   "metadata": {
    "execution": {
     "iopub.execute_input": "2025-04-25T22:14:07.762536Z",
     "iopub.status.busy": "2025-04-25T22:14:07.762425Z",
     "iopub.status.idle": "2025-04-25T22:14:08.724868Z",
     "shell.execute_reply": "2025-04-25T22:14:08.724599Z"
    }
   },
   "outputs": [
    {
     "name": "stdout",
     "output_type": "stream",
     "text": [
      "l2 relative error = tensor([0.1799, 0.5472, 0.0065])\n"
     ]
    }
   ],
   "source": [
    "data = fgp.fit(verbose=False)\n",
    "print(\"l2 relative error =\",(torch.linalg.norm(y-fgp.post_mean(x),dim=1)/torch.linalg.norm(y,dim=1)))"
   ]
  },
  {
   "cell_type": "code",
   "execution_count": 12,
   "metadata": {
    "execution": {
     "iopub.execute_input": "2025-04-25T22:14:08.726149Z",
     "iopub.status.busy": "2025-04-25T22:14:08.726065Z",
     "iopub.status.idle": "2025-04-25T22:14:11.359285Z",
     "shell.execute_reply": "2025-04-25T22:14:11.358893Z"
    }
   },
   "outputs": [],
   "source": [
    "n_new = fgp.n*torch.tensor([4,8,2])\n",
    "pcov_new = fgp.post_cov(x,z,n=n_new)\n",
    "pvar_new = fgp.post_var(x,n=n_new)\n",
    "pcvar_new = fgp.post_cubature_var(n=n_new)\n",
    "x_next = fgp.get_x_next(n_new)\n",
    "y_next = [f(x_next[0]),f0(x_next[1]),f1(x_next[2])]\n",
    "fgp.add_y_next(y_next)\n",
    "assert torch.allclose(fgp.post_cov(x,z),pcov_new)\n",
    "assert torch.allclose(fgp.post_var(x),pvar_new)\n",
    "assert torch.allclose(fgp.post_cubature_var(),pcvar_new)"
   ]
  },
  {
   "cell_type": "code",
   "execution_count": null,
   "metadata": {},
   "outputs": [],
   "source": []
  }
 ],
 "metadata": {
  "kernelspec": {
   "display_name": "fgp",
   "language": "python",
   "name": "python3"
  },
  "language_info": {
   "codemirror_mode": {
    "name": "ipython",
    "version": 3
   },
   "file_extension": ".py",
   "mimetype": "text/x-python",
   "name": "python",
   "nbconvert_exporter": "python",
   "pygments_lexer": "ipython3",
   "version": "3.13.2"
  }
 },
 "nbformat": 4,
 "nbformat_minor": 2
}
