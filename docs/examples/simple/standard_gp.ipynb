{
 "cells": [
  {
   "cell_type": "markdown",
   "metadata": {},
   "source": [
    "# Standard GP"
   ]
  },
  {
   "cell_type": "code",
   "execution_count": 1,
   "metadata": {
    "execution": {
     "iopub.execute_input": "2025-04-25T22:12:12.232652Z",
     "iopub.status.busy": "2025-04-25T22:12:12.232540Z",
     "iopub.status.idle": "2025-04-25T22:12:13.214807Z",
     "shell.execute_reply": "2025-04-25T22:12:13.214421Z"
    }
   },
   "outputs": [],
   "source": [
    "import fastgps\n",
    "import torch\n",
    "import numpy as np"
   ]
  },
  {
   "cell_type": "code",
   "execution_count": 2,
   "metadata": {
    "execution": {
     "iopub.execute_input": "2025-04-25T22:12:13.216167Z",
     "iopub.status.busy": "2025-04-25T22:12:13.216054Z",
     "iopub.status.idle": "2025-04-25T22:12:13.217832Z",
     "shell.execute_reply": "2025-04-25T22:12:13.217627Z"
    }
   },
   "outputs": [],
   "source": [
    "torch.set_default_dtype(torch.float64)"
   ]
  },
  {
   "cell_type": "markdown",
   "metadata": {},
   "source": [
    "## True Function"
   ]
  },
  {
   "cell_type": "code",
   "execution_count": 3,
   "metadata": {
    "execution": {
     "iopub.execute_input": "2025-04-25T22:12:13.218893Z",
     "iopub.status.busy": "2025-04-25T22:12:13.218813Z",
     "iopub.status.idle": "2025-04-25T22:12:13.221565Z",
     "shell.execute_reply": "2025-04-25T22:12:13.221351Z"
    }
   },
   "outputs": [
    {
     "name": "stdout",
     "output_type": "stream",
     "text": [
      "x.shape = (128, 1)\n",
      "y.shape = (128,)\n",
      "z.shape = (256, 1)\n"
     ]
    }
   ],
   "source": [
    "def f_ackley(x, a=20, b=0.2, c=2*np.pi, scaling=32.768):\n",
    "    # https://www.sfu.ca/~ssurjano/ackley.html\n",
    "    assert x.ndim==2\n",
    "    x = 2*scaling*x-scaling\n",
    "    t1 = a*torch.exp(-b*torch.sqrt(torch.mean(x**2,1)))\n",
    "    t2 = torch.exp(torch.mean(torch.cos(c*x),1))\n",
    "    t3 = a+np.exp(1)\n",
    "    y = -t1-t2+t3\n",
    "    return y\n",
    "d = 1 # dimension\n",
    "rng = torch.Generator().manual_seed(17)\n",
    "x = torch.rand((2**7,d),generator=rng) # random testing locations\n",
    "y = f_ackley(x) # true values at random testing locations\n",
    "z = torch.rand((2**8,d),generator=rng) # other random locations at which to evaluate covariance\n",
    "print(\"x.shape = %s\"%str(tuple(x.shape)))\n",
    "print(\"y.shape = %s\"%str(tuple(y.shape)))\n",
    "print(\"z.shape = %s\"%str(tuple(z.shape)))"
   ]
  },
  {
   "cell_type": "markdown",
   "metadata": {},
   "source": [
    "## Construct GP"
   ]
  },
  {
   "cell_type": "code",
   "execution_count": 4,
   "metadata": {
    "execution": {
     "iopub.execute_input": "2025-04-25T22:12:13.237284Z",
     "iopub.status.busy": "2025-04-25T22:12:13.237184Z",
     "iopub.status.idle": "2025-04-25T22:12:13.241320Z",
     "shell.execute_reply": "2025-04-25T22:12:13.241115Z"
    }
   },
   "outputs": [
    {
     "name": "stdout",
     "output_type": "stream",
     "text": [
      "x_next.shape = (64, 1)\n",
      "y_next.shape = (64,)\n"
     ]
    }
   ],
   "source": [
    "fgp = fastgps.StandardGP(d,seed_for_seq=7)\n",
    "x_next = fgp.get_x_next(2**6)\n",
    "y_next = f_ackley(x_next)\n",
    "fgp.add_y_next(y_next)\n",
    "print(\"x_next.shape = %s\"%str(tuple(x_next.shape)))\n",
    "print(\"y_next.shape = %s\"%str(tuple(y_next.shape)))"
   ]
  },
  {
   "cell_type": "code",
   "execution_count": 5,
   "metadata": {
    "execution": {
     "iopub.execute_input": "2025-04-25T22:12:13.242380Z",
     "iopub.status.busy": "2025-04-25T22:12:13.242315Z",
     "iopub.status.idle": "2025-04-25T22:12:13.246716Z",
     "shell.execute_reply": "2025-04-25T22:12:13.246501Z"
    }
   },
   "outputs": [
    {
     "name": "stdout",
     "output_type": "stream",
     "text": [
      "pmean.shape = (128,)\n",
      "l2 relative error = 1.67e-01\n"
     ]
    }
   ],
   "source": [
    "pmean = fgp.post_mean(x)\n",
    "print(\"pmean.shape = %s\"%str(tuple(pmean.shape)))\n",
    "print(\"l2 relative error = %.2e\"%(torch.linalg.norm(y-pmean)/torch.linalg.norm(y)))"
   ]
  },
  {
   "cell_type": "code",
   "execution_count": 6,
   "metadata": {
    "execution": {
     "iopub.execute_input": "2025-04-25T22:12:13.247774Z",
     "iopub.status.busy": "2025-04-25T22:12:13.247665Z",
     "iopub.status.idle": "2025-04-25T22:12:13.973872Z",
     "shell.execute_reply": "2025-04-25T22:12:13.973608Z"
    }
   },
   "outputs": [
    {
     "name": "stdout",
     "output_type": "stream",
     "text": [
      "     iter of 5.0e+03 | loss       | term1      | term2     \n",
      "    ~~~~~~~~~~~~~~~~~~~~~~~~~~~~~~~~~~~~~~~~~~~~~~~~~~~~~~~\n",
      "            0.00e+00 | 3.69e+06   | 7.38e+06   | -5.54e+02 \n",
      "            5.00e+00 | 2.45e+06   | 4.89e+06   | -5.44e+02 \n",
      "            1.00e+01 | 7.71e+05   | 1.54e+06   | -4.98e+02 \n",
      "            1.50e+01 | 6.24e+02   | 9.04e+02   | 2.27e+02  \n",
      "            2.00e+01 | 3.07e+03   | 5.85e+03   | 1.75e+02  \n",
      "            2.50e+01 | 2.34e+02   | 9.91e+01   | 2.52e+02  \n",
      "            3.00e+01 | 2.18e+02   | 5.16e+01   | 2.67e+02  \n",
      "            3.50e+01 | 2.04e+02   | 4.84e+01   | 2.41e+02  \n",
      "            4.00e+01 | 2.02e+02   | 5.96e+01   | 2.26e+02  \n",
      "            4.50e+01 | 2.01e+02   | 6.18e+01   | 2.23e+02  \n",
      "            5.00e+01 | 2.01e+02   | 6.41e+01   | 2.21e+02  \n",
      "            5.30e+01 | 2.01e+02   | 6.37e+01   | 2.22e+02  \n"
     ]
    },
    {
     "data": {
      "text/plain": [
       "['iterations']"
      ]
     },
     "execution_count": 6,
     "metadata": {},
     "output_type": "execute_result"
    }
   ],
   "source": [
    "data = fgp.fit()\n",
    "list(data.keys())"
   ]
  },
  {
   "cell_type": "code",
   "execution_count": 7,
   "metadata": {
    "execution": {
     "iopub.execute_input": "2025-04-25T22:12:13.975157Z",
     "iopub.status.busy": "2025-04-25T22:12:13.975018Z",
     "iopub.status.idle": "2025-04-25T22:12:13.988598Z",
     "shell.execute_reply": "2025-04-25T22:12:13.988302Z"
    }
   },
   "outputs": [
    {
     "name": "stdout",
     "output_type": "stream",
     "text": [
      "pmean.shape = (128,)\n",
      "pvar.shape = (128,)\n",
      "q = 2.58\n",
      "ci_low.shape = (128,)\n",
      "ci_high.shape = (128,)\n",
      "l2 relative error = 6.46e-02\n",
      "pcov.shape = (128, 128)\n",
      "pcov2.shape = (128, 256)\n"
     ]
    }
   ],
   "source": [
    "pmean,pvar,q,ci_low,ci_high = fgp.post_ci(x,confidence=0.99)\n",
    "print(\"pmean.shape = %s\"%str(tuple(pmean.shape)))\n",
    "print(\"pvar.shape = %s\"%str(tuple(pvar.shape)))\n",
    "print(\"q = %.2f\"%q)\n",
    "print(\"ci_low.shape = %s\"%str(tuple(ci_low.shape)))\n",
    "print(\"ci_high.shape = %s\"%str(tuple(ci_high.shape)))\n",
    "print(\"l2 relative error = %.2e\"%(torch.linalg.norm(y-pmean)/torch.linalg.norm(y)))\n",
    "pcov = fgp.post_cov(x,x)\n",
    "print(\"pcov.shape = %s\"%str(tuple(pcov.shape)))\n",
    "assert torch.allclose(pcov.diagonal(),pvar) and (pvar>=0).all()\n",
    "pcov2 = fgp.post_cov(x,z)\n",
    "print(\"pcov2.shape = %s\"%str(tuple(pcov2.shape)))"
   ]
  },
  {
   "cell_type": "code",
   "execution_count": 8,
   "metadata": {
    "execution": {
     "iopub.execute_input": "2025-04-25T22:12:13.989773Z",
     "iopub.status.busy": "2025-04-25T22:12:13.989703Z",
     "iopub.status.idle": "2025-04-25T22:12:13.992409Z",
     "shell.execute_reply": "2025-04-25T22:12:13.992173Z"
    }
   },
   "outputs": [
    {
     "name": "stdout",
     "output_type": "stream",
     "text": [
      "pcmean = 1.842e+01\n",
      "pcvar = 1.376e-03\n",
      "cci_low = 1.832e+01\n",
      "cci_high = 1.851e+01\n"
     ]
    }
   ],
   "source": [
    "pcmean,pcvar,q,cci_low,cci_high = fgp.post_cubature_ci(confidence=0.99)\n",
    "print(\"pcmean = %.3e\"%pcmean)\n",
    "print(\"pcvar = %.3e\"%pcvar)\n",
    "print(\"cci_low = %.3e\"%cci_low)\n",
    "print(\"cci_high = %.3e\"%cci_high)"
   ]
  },
  {
   "cell_type": "markdown",
   "metadata": {},
   "source": [
    "## Project and Increase Sample Size"
   ]
  },
  {
   "cell_type": "code",
   "execution_count": 9,
   "metadata": {
    "execution": {
     "iopub.execute_input": "2025-04-25T22:12:13.993562Z",
     "iopub.status.busy": "2025-04-25T22:12:13.993490Z",
     "iopub.status.idle": "2025-04-25T22:12:14.006913Z",
     "shell.execute_reply": "2025-04-25T22:12:14.006440Z"
    }
   },
   "outputs": [],
   "source": [
    "pcov_future = fgp.post_cov(x,z,n=2*fgp.n)\n",
    "pvar_future = fgp.post_var(x,n=2*fgp.n)\n",
    "pcvar_future = fgp.post_cubature_var(n=2*fgp.n)"
   ]
  },
  {
   "cell_type": "code",
   "execution_count": 10,
   "metadata": {
    "execution": {
     "iopub.execute_input": "2025-04-25T22:12:14.008199Z",
     "iopub.status.busy": "2025-04-25T22:12:14.008119Z",
     "iopub.status.idle": "2025-04-25T22:12:14.019768Z",
     "shell.execute_reply": "2025-04-25T22:12:14.019539Z"
    }
   },
   "outputs": [
    {
     "name": "stdout",
     "output_type": "stream",
     "text": [
      "l2 relative error = 8.13e-02\n"
     ]
    }
   ],
   "source": [
    "x_next = fgp.get_x_next(2*fgp.n)\n",
    "y_next = f_ackley(x_next)\n",
    "fgp.add_y_next(y_next)\n",
    "print(\"l2 relative error = %.2e\"%(torch.linalg.norm(y-fgp.post_mean(x))/torch.linalg.norm(y)))\n",
    "assert torch.allclose(fgp.post_cov(x,z),pcov_future)\n",
    "assert torch.allclose(fgp.post_var(x),pvar_future)\n",
    "assert torch.allclose(fgp.post_cubature_var(),pcvar_future)"
   ]
  },
  {
   "cell_type": "code",
   "execution_count": 11,
   "metadata": {
    "execution": {
     "iopub.execute_input": "2025-04-25T22:12:14.020856Z",
     "iopub.status.busy": "2025-04-25T22:12:14.020782Z",
     "iopub.status.idle": "2025-04-25T22:12:14.071475Z",
     "shell.execute_reply": "2025-04-25T22:12:14.071243Z"
    }
   },
   "outputs": [
    {
     "name": "stdout",
     "output_type": "stream",
     "text": [
      "l2 relative error = 6.47e-02\n"
     ]
    }
   ],
   "source": [
    "data = fgp.fit(verbose=False)\n",
    "print(\"l2 relative error = %.2e\"%(torch.linalg.norm(y-fgp.post_mean(x))/torch.linalg.norm(y)))"
   ]
  },
  {
   "cell_type": "code",
   "execution_count": 12,
   "metadata": {
    "execution": {
     "iopub.execute_input": "2025-04-25T22:12:14.072612Z",
     "iopub.status.busy": "2025-04-25T22:12:14.072527Z",
     "iopub.status.idle": "2025-04-25T22:12:17.053551Z",
     "shell.execute_reply": "2025-04-25T22:12:17.053075Z"
    }
   },
   "outputs": [],
   "source": [
    "pcov_16n = fgp.post_cov(x,z,n=16*fgp.n)\n",
    "pvar_16n = fgp.post_var(x,n=16*fgp.n)\n",
    "pcvar_16n = fgp.post_cubature_var(n=16*fgp.n)\n",
    "x_next = fgp.get_x_next(16*fgp.n)\n",
    "y_next = f_ackley(x_next)\n",
    "fgp.add_y_next(y_next)\n",
    "assert torch.allclose(fgp.post_cov(x,z),pcov_16n)\n",
    "assert torch.allclose(fgp.post_var(x),pvar_16n)\n",
    "assert torch.allclose(fgp.post_cubature_var(),pcvar_16n)"
   ]
  },
  {
   "cell_type": "code",
   "execution_count": null,
   "metadata": {},
   "outputs": [],
   "source": []
  }
 ],
 "metadata": {
  "kernelspec": {
   "display_name": "fgp",
   "language": "python",
   "name": "python3"
  },
  "language_info": {
   "codemirror_mode": {
    "name": "ipython",
    "version": 3
   },
   "file_extension": ".py",
   "mimetype": "text/x-python",
   "name": "python",
   "nbconvert_exporter": "python",
   "pygments_lexer": "ipython3",
   "version": "3.13.2"
  }
 },
 "nbformat": 4,
 "nbformat_minor": 2
}
