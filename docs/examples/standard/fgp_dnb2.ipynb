{
 "cells": [
  {
   "cell_type": "markdown",
   "metadata": {},
   "source": [
    "# Fast Digital Net GP"
   ]
  },
  {
   "cell_type": "code",
   "execution_count": 1,
   "metadata": {},
   "outputs": [],
   "source": [
    "import fastgp\n",
    "import torch\n",
    "import numpy as np"
   ]
  },
  {
   "cell_type": "code",
   "execution_count": 2,
   "metadata": {},
   "outputs": [],
   "source": [
    "torch.set_default_dtype(torch.float64)"
   ]
  },
  {
   "cell_type": "markdown",
   "metadata": {},
   "source": [
    "## True Function"
   ]
  },
  {
   "cell_type": "code",
   "execution_count": 3,
   "metadata": {},
   "outputs": [
    {
     "name": "stdout",
     "output_type": "stream",
     "text": [
      "x.shape = (128, 1)\n",
      "y.shape = (128,)\n",
      "z.shape = (256, 1)\n"
     ]
    }
   ],
   "source": [
    "def f_ackley(x, a=20, b=0.2, c=2*np.pi, scaling=32.768):\n",
    "    # https://www.sfu.ca/~ssurjano/ackley.html\n",
    "    assert x.ndim==2\n",
    "    x = 2*scaling*x-scaling\n",
    "    t1 = a*torch.exp(-b*torch.sqrt(torch.mean(x**2,1)))\n",
    "    t2 = torch.exp(torch.mean(torch.cos(c*x),1))\n",
    "    t3 = a+np.exp(1)\n",
    "    y = -t1-t2+t3\n",
    "    return y\n",
    "d = 1 # dimension\n",
    "rng = torch.Generator().manual_seed(17)\n",
    "x = torch.rand((2**7,d),generator=rng) # random testing locations\n",
    "y = f_ackley(x) # true values at random testing locations\n",
    "z = torch.rand((2**8,d),generator=rng) # other random locations at which to evaluate covariance\n",
    "print(\"x.shape = %s\"%str(tuple(x.shape)))\n",
    "print(\"y.shape = %s\"%str(tuple(y.shape)))\n",
    "print(\"z.shape = %s\"%str(tuple(z.shape)))"
   ]
  },
  {
   "cell_type": "markdown",
   "metadata": {},
   "source": [
    "## Construct Fast GP"
   ]
  },
  {
   "cell_type": "code",
   "execution_count": 4,
   "metadata": {},
   "outputs": [
    {
     "name": "stdout",
     "output_type": "stream",
     "text": [
      "x_next.shape = (1024, 1)\n",
      "y_next.shape = (1024,)\n"
     ]
    }
   ],
   "source": [
    "fgp = fastgp.FastGPDigitalNetB2(d,seed_for_seq=7)\n",
    "x_next = fgp.get_x_next(2**10)\n",
    "y_next = f_ackley(x_next)\n",
    "fgp.add_y_next(y_next)\n",
    "print(\"x_next.shape = %s\"%str(tuple(x_next.shape)))\n",
    "print(\"y_next.shape = %s\"%str(tuple(y_next.shape)))"
   ]
  },
  {
   "cell_type": "code",
   "execution_count": 5,
   "metadata": {},
   "outputs": [
    {
     "name": "stdout",
     "output_type": "stream",
     "text": [
      "pmean.shape = (128,)\n",
      "l2 relative error = 8.37e-03\n"
     ]
    }
   ],
   "source": [
    "pmean = fgp.post_mean(x)\n",
    "print(\"pmean.shape = %s\"%str(tuple(pmean.shape)))\n",
    "print(\"l2 relative error = %.2e\"%(torch.linalg.norm(y-pmean)/torch.linalg.norm(y)))"
   ]
  },
  {
   "cell_type": "code",
   "execution_count": 6,
   "metadata": {},
   "outputs": [
    {
     "name": "stdout",
     "output_type": "stream",
     "text": [
      "     iter of 5.0e+03 | NMLL       | noise      | scale      | lengthscales         | task_kernel \n",
      "    ~~~~~~~~~~~~~~~~~~~~~~~~~~~~~~~~~~~~~~~~~~~~~~~~~~~~~~~~~~~~~~~~~~~~~~~~~~~~~~~~~~~~~~~~~~~~~\n",
      "            0.00e+00 | 2.23e+04   | 1.00e-16   | 1.00e+00   | [1.0e+00]            | [[1.0e+00]]\n",
      "            5.00e+00 | 4.99e+03   | 1.00e-16   | 2.10e+00   | [2.1e+00]            | [[1.0e+00]]\n",
      "            1.00e+01 | 2.23e+03   | 1.00e-16   | 4.35e+00   | [4.4e+00]            | [[1.0e+00]]\n",
      "            1.50e+01 | 2.20e+03   | 1.00e-16   | 5.02e+00   | [5.0e+00]            | [[1.0e+00]]\n",
      "            2.00e+01 | 2.20e+03   | 1.00e-16   | 5.30e+00   | [4.8e+00]            | [[1.0e+00]]\n",
      "            2.50e+01 | 2.19e+03   | 1.00e-16   | 6.00e+00   | [4.1e+00]            | [[1.0e+00]]\n",
      "            3.00e+01 | 2.18e+03   | 1.00e-16   | 6.45e+00   | [3.8e+00]            | [[1.0e+00]]\n",
      "            3.50e+01 | 2.18e+03   | 1.00e-16   | 6.53e+00   | [3.6e+00]            | [[1.0e+00]]\n",
      "            4.00e+01 | 2.18e+03   | 1.00e-16   | 7.17e+00   | [3.3e+00]            | [[1.0e+00]]\n",
      "            4.50e+01 | 2.17e+03   | 1.00e-16   | 9.03e+00   | [2.6e+00]            | [[1.0e+00]]\n",
      "            5.00e+01 | 2.15e+03   | 1.00e-16   | 1.60e+01   | [1.5e+00]            | [[1.0e+00]]\n",
      "            5.50e+01 | 2.14e+03   | 1.00e-16   | 6.71e+01   | [3.5e-01]            | [[1.0e+00]]\n",
      "            6.00e+01 | 2.17e+03   | 1.00e-16   | 3.62e+02   | [8.7e-02]            | [[1.0e+00]]\n",
      "            6.50e+01 | 2.14e+03   | 1.00e-16   | 3.32e+02   | [8.0e-02]            | [[1.0e+00]]\n",
      "            6.70e+01 | 2.14e+03   | 1.00e-16   | 3.02e+02   | [7.2e-02]            | [[1.0e+00]]\n"
     ]
    },
    {
     "data": {
      "text/plain": [
       "['mll_hist', 'scale_hist', 'lengthscales_hist']"
      ]
     },
     "execution_count": 6,
     "metadata": {},
     "output_type": "execute_result"
    }
   ],
   "source": [
    "data = fgp.fit()\n",
    "list(data.keys())"
   ]
  },
  {
   "cell_type": "code",
   "execution_count": 7,
   "metadata": {},
   "outputs": [
    {
     "name": "stdout",
     "output_type": "stream",
     "text": [
      "pmean.shape = (128,)\n",
      "pvar.shape = (128,)\n",
      "q = 2.58\n",
      "ci_low.shape = (128,)\n",
      "ci_high.shape = (128,)\n",
      "l2 relative error = 8.43e-03\n",
      "pcov.shape = (128, 128)\n",
      "pcov2.shape = (128, 256)\n"
     ]
    }
   ],
   "source": [
    "pmean,pvar,q,ci_low,ci_high = fgp.post_ci(x,confidence=0.99)\n",
    "print(\"pmean.shape = %s\"%str(tuple(pmean.shape)))\n",
    "print(\"pvar.shape = %s\"%str(tuple(pvar.shape)))\n",
    "print(\"q = %.2f\"%q)\n",
    "print(\"ci_low.shape = %s\"%str(tuple(ci_low.shape)))\n",
    "print(\"ci_high.shape = %s\"%str(tuple(ci_high.shape)))\n",
    "print(\"l2 relative error = %.2e\"%(torch.linalg.norm(y-pmean)/torch.linalg.norm(y)))\n",
    "pcov = fgp.post_cov(x,x)\n",
    "print(\"pcov.shape = %s\"%str(tuple(pcov.shape)))\n",
    "assert torch.allclose(pcov.diagonal(),pvar) and (pvar>=0).all()\n",
    "pcov2 = fgp.post_cov(x,z)\n",
    "print(\"pcov2.shape = %s\"%str(tuple(pcov2.shape)))"
   ]
  },
  {
   "cell_type": "code",
   "execution_count": 8,
   "metadata": {},
   "outputs": [
    {
     "name": "stdout",
     "output_type": "stream",
     "text": [
      "pcmean = 1.841e+01\n",
      "pcvar = 2.133e-02\n",
      "cci_low = 1.803e+01\n",
      "cci_high = 1.879e+01\n"
     ]
    }
   ],
   "source": [
    "pcmean,pcvar,q,cci_low,cci_high = fgp.post_cubature_ci(confidence=0.99)\n",
    "print(\"pcmean = %.3e\"%pcmean)\n",
    "print(\"pcvar = %.3e\"%pcvar)\n",
    "print(\"cci_low = %.3e\"%cci_low)\n",
    "print(\"cci_high = %.3e\"%cci_high)"
   ]
  },
  {
   "cell_type": "markdown",
   "metadata": {},
   "source": [
    "## Project and Increase Sample Size"
   ]
  },
  {
   "cell_type": "code",
   "execution_count": 9,
   "metadata": {},
   "outputs": [],
   "source": [
    "pcov_future = fgp.post_cov(x,z,n=2*fgp.n)\n",
    "pvar_future = fgp.post_var(x,n=2*fgp.n)\n",
    "pcvar_future = fgp.post_cubature_var(n=2*fgp.n)"
   ]
  },
  {
   "cell_type": "code",
   "execution_count": 10,
   "metadata": {},
   "outputs": [
    {
     "name": "stdout",
     "output_type": "stream",
     "text": [
      "l2 relative error = 4.72e-03\n"
     ]
    }
   ],
   "source": [
    "x_next = fgp.get_x_next(2*fgp.n)\n",
    "y_next = f_ackley(x_next)\n",
    "fgp.add_y_next(y_next)\n",
    "print(\"l2 relative error = %.2e\"%(torch.linalg.norm(y-fgp.post_mean(x))/torch.linalg.norm(y)))\n",
    "assert torch.allclose(fgp.post_cov(x,z),pcov_future)\n",
    "assert torch.allclose(fgp.post_var(x),pvar_future)\n",
    "assert torch.allclose(fgp.post_cubature_var(),pcvar_future)"
   ]
  },
  {
   "cell_type": "code",
   "execution_count": 11,
   "metadata": {},
   "outputs": [
    {
     "name": "stdout",
     "output_type": "stream",
     "text": [
      "l2 relative error = 4.72e-03\n"
     ]
    }
   ],
   "source": [
    "data = fgp.fit(verbose=False,store_mll_hist=False,store_scale_hist=False,store_lengthscales_hist=False,store_noise_hist=False)\n",
    "print(\"l2 relative error = %.2e\"%(torch.linalg.norm(y-fgp.post_mean(x))/torch.linalg.norm(y)))"
   ]
  },
  {
   "cell_type": "code",
   "execution_count": 12,
   "metadata": {},
   "outputs": [],
   "source": [
    "pcov_16n = fgp.post_cov(x,z,n=16*fgp.n)\n",
    "pvar_16n = fgp.post_var(x,n=16*fgp.n)\n",
    "pcvar_16n = fgp.post_cubature_var(n=16*fgp.n)\n",
    "x_next = fgp.get_x_next(16*fgp.n)\n",
    "y_next = f_ackley(x_next)\n",
    "fgp.add_y_next(y_next)\n",
    "assert torch.allclose(fgp.post_cov(x,z),pcov_16n)\n",
    "assert torch.allclose(fgp.post_var(x),pvar_16n)\n",
    "assert torch.allclose(fgp.post_cubature_var(),pcvar_16n)"
   ]
  }
 ],
 "metadata": {
  "kernelspec": {
   "display_name": "fgp",
   "language": "python",
   "name": "python3"
  },
  "language_info": {
   "codemirror_mode": {
    "name": "ipython",
    "version": 3
   },
   "file_extension": ".py",
   "mimetype": "text/x-python",
   "name": "python",
   "nbconvert_exporter": "python",
   "pygments_lexer": "ipython3",
   "version": "3.13.2"
  }
 },
 "nbformat": 4,
 "nbformat_minor": 2
}
