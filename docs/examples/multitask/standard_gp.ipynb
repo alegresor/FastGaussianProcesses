{
 "cells": [
  {
   "cell_type": "markdown",
   "metadata": {},
   "source": [
    "# Standard GP"
   ]
  },
  {
   "cell_type": "code",
   "execution_count": 1,
   "metadata": {},
   "outputs": [],
   "source": [
    "import fastgp\n",
    "import torch\n",
    "import numpy as np"
   ]
  },
  {
   "cell_type": "code",
   "execution_count": 2,
   "metadata": {},
   "outputs": [],
   "source": [
    "torch.set_default_dtype(torch.float64)"
   ]
  },
  {
   "cell_type": "markdown",
   "metadata": {},
   "source": [
    "## True Function"
   ]
  },
  {
   "cell_type": "code",
   "execution_count": 3,
   "metadata": {},
   "outputs": [
    {
     "name": "stdout",
     "output_type": "stream",
     "text": [
      "x.shape = (128, 1)\n",
      "y.shape = (3, 128)\n",
      "z.shape = (256, 1)\n"
     ]
    }
   ],
   "source": [
    "def f_ackley(x, a=20, b=0.2, c=2*np.pi, scaling=32.768):\n",
    "    # https://www.sfu.ca/~ssurjano/ackley.html\n",
    "    assert x.ndim==2\n",
    "    x = 2*scaling*x-scaling\n",
    "    t1 = a*torch.exp(-b*torch.sqrt(torch.mean(x**2,1)))\n",
    "    t2 = torch.exp(torch.mean(torch.cos(c*x),1))\n",
    "    t3 = a+np.exp(1)\n",
    "    y = -t1-t2+t3\n",
    "    return y\n",
    "f_low_fidelity = lambda x: f_ackley(x,c=0)\n",
    "f_high_fidelity = lambda x: f_ackley(x)\n",
    "f_cos = lambda x: torch.cos(2*np.pi*x).sum(1)\n",
    "fs = [f_low_fidelity,f_high_fidelity,f_cos]\n",
    "d = 1 # dimension\n",
    "rng = torch.Generator().manual_seed(17)\n",
    "x = torch.rand((2**7,d),generator=rng) # random testing locations\n",
    "y = torch.vstack([f(x) for f in fs]) # true values at random testing locations\n",
    "z = torch.rand((2**8,d),generator=rng) # other random locations at which to evaluate covariance\n",
    "print(\"x.shape = %s\"%str(tuple(x.shape)))\n",
    "print(\"y.shape = %s\"%str(tuple(y.shape)))\n",
    "print(\"z.shape = %s\"%str(tuple(z.shape)))"
   ]
  },
  {
   "cell_type": "markdown",
   "metadata": {},
   "source": [
    "## Construct Fast GP"
   ]
  },
  {
   "cell_type": "code",
   "execution_count": 4,
   "metadata": {},
   "outputs": [
    {
     "name": "stdout",
     "output_type": "stream",
     "text": [
      "i = 0\n",
      "\tx_next[0].shape = (16, 1)\n",
      "\ty_next[0].shape = (16,)\n",
      "i = 1\n",
      "\tx_next[1].shape = (4, 1)\n",
      "\ty_next[1].shape = (4,)\n",
      "i = 2\n",
      "\tx_next[2].shape = (8, 1)\n",
      "\ty_next[2].shape = (8,)\n"
     ]
    }
   ],
   "source": [
    "fgp = fastgp.StandardGP(d,seed_for_seq=7,num_tasks=len(fs))\n",
    "x_next = fgp.get_x_next(n=[2**4,2**2,2**3])\n",
    "y_next = [fs[i](x_next[i]) for i in range(fgp.num_tasks)]\n",
    "fgp.add_y_next(y_next)\n",
    "assert len(x_next)==len(y_next)\n",
    "for i in range(len(x_next)):\n",
    "    print(\"i = %d\"%i)\n",
    "    print(\"\\tx_next[%d].shape = %s\"%(i,str(tuple(x_next[i].shape))))\n",
    "    print(\"\\ty_next[%d].shape = %s\"%(i,str(tuple(y_next[i].shape))))"
   ]
  },
  {
   "cell_type": "code",
   "execution_count": 5,
   "metadata": {},
   "outputs": [
    {
     "name": "stdout",
     "output_type": "stream",
     "text": [
      "pmean.shape = (3, 128)\n",
      "l2 relative error = tensor([0.1528, 0.5161, 0.1780])\n"
     ]
    }
   ],
   "source": [
    "pmean = fgp.post_mean(x)\n",
    "print(\"pmean.shape = %s\"%str(tuple(pmean.shape)))\n",
    "print(\"l2 relative error =\",(torch.linalg.norm(y-pmean,dim=1)/torch.linalg.norm(y,dim=1)))"
   ]
  },
  {
   "cell_type": "code",
   "execution_count": 6,
   "metadata": {},
   "outputs": [
    {
     "name": "stdout",
     "output_type": "stream",
     "text": [
      "     iter of 5.0e+03 | NMLL       | norm term  | logdet term\n",
      "    ~~~~~~~~~~~~~~~~~~~~~~~~~~~~~~~~~~~~~~~~~~~~~~~~~~~~~~~~\n",
      "            0.00e+00 | 1.05e+08   | 1.05e+08   | -2.45e+02 \n",
      "            5.00e+00 | 7.08e+07   | 7.08e+07   | -2.00e+02 \n",
      "            1.00e+01 | 4.89e+06   | 4.89e+06   | -3.20e+01 \n",
      "            1.50e+01 | 2.14e+02   | 3.07e+00   | 1.60e+02  \n",
      "            2.00e+01 | 1.85e+02   | 4.02e+00   | 1.30e+02  \n",
      "            2.50e+01 | 1.49e+02   | 2.00e+01   | 7.81e+01  \n",
      "            3.00e+01 | 1.27e+02   | 2.64e+01   | 4.90e+01  \n",
      "            3.50e+01 | 1.17e+02   | 3.56e+01   | 3.02e+01  \n",
      "            4.00e+01 | 1.11e+02   | 2.89e+01   | 3.10e+01  \n",
      "            4.50e+01 | 1.05e+02   | 2.88e+01   | 2.51e+01  \n",
      "            5.00e+01 | 1.29e+02   | 6.90e+01   | 8.07e+00  \n",
      "            5.50e+01 | 9.13e+01   | 2.86e+01   | 1.13e+01  \n",
      "            6.00e+01 | 8.69e+01   | 2.79e+01   | 7.58e+00  \n",
      "            6.50e+01 | 8.53e+01   | 2.86e+01   | 5.25e+00  \n",
      "            7.00e+01 | 8.51e+01   | 2.82e+01   | 5.44e+00  \n",
      "            7.50e+01 | 8.49e+01   | 2.83e+01   | 5.08e+00  \n",
      "            8.00e+01 | 8.43e+01   | 2.81e+01   | 4.71e+00  \n",
      "            8.50e+01 | 8.35e+01   | 2.82e+01   | 3.86e+00  \n",
      "            9.00e+01 | 8.34e+01   | 2.79e+01   | 4.05e+00  \n",
      "            9.50e+01 | 8.34e+01   | 2.79e+01   | 4.12e+00  \n"
     ]
    },
    {
     "data": {
      "text/plain": [
       "['mll_hist', 'scale_hist', 'lengthscales_hist', 'task_kernel_hist']"
      ]
     },
     "execution_count": 6,
     "metadata": {},
     "output_type": "execute_result"
    }
   ],
   "source": [
    "data = fgp.fit()\n",
    "list(data.keys())"
   ]
  },
  {
   "cell_type": "code",
   "execution_count": 7,
   "metadata": {},
   "outputs": [
    {
     "name": "stdout",
     "output_type": "stream",
     "text": [
      "pmean.shape = (3, 128)\n",
      "pvar.shape = (3, 128)\n",
      "q = 2.58\n",
      "ci_low.shape = (3, 128)\n",
      "ci_high.shape = (3, 128)\n",
      "l2 relative error = tensor([0.0656, 0.0805, 0.0792])\n",
      "pcov.shape = (3, 3, 128, 128)\n",
      "pcov2.shape = (3, 3, 128, 256)\n"
     ]
    }
   ],
   "source": [
    "pmean,pvar,q,ci_low,ci_high = fgp.post_ci(x,confidence=0.99)\n",
    "print(\"pmean.shape = %s\"%str(tuple(pmean.shape)))\n",
    "print(\"pvar.shape = %s\"%str(tuple(pvar.shape)))\n",
    "print(\"q = %.2f\"%q)\n",
    "print(\"ci_low.shape = %s\"%str(tuple(ci_low.shape)))\n",
    "print(\"ci_high.shape = %s\"%str(tuple(ci_high.shape)))\n",
    "print(\"l2 relative error =\",(torch.linalg.norm(y-pmean,dim=1)/torch.linalg.norm(y,dim=1)))\n",
    "pcov = fgp.post_cov(x,x)\n",
    "print(\"pcov.shape = %s\"%str(tuple(pcov.shape)))\n",
    "_range0,_rangen1 = torch.arange(pcov.size(0)),torch.arange(pcov.size(-1))\n",
    "assert torch.allclose(pcov[_range0,_range0][:,_rangen1,_rangen1],pvar) and (pvar>=0).all()\n",
    "pcov2 = fgp.post_cov(x,z)\n",
    "print(\"pcov2.shape = %s\"%str(tuple(pcov2.shape)))"
   ]
  },
  {
   "cell_type": "code",
   "execution_count": 8,
   "metadata": {},
   "outputs": [
    {
     "name": "stdout",
     "output_type": "stream",
     "text": [
      "pcmean = tensor([1.6675e+01, 1.8541e+01, 1.5198e-02])\n",
      "pcvar = tensor([0.0002, 0.0003, 0.0010])\n",
      "cci_low = tensor([16.6356, 18.4973, -0.0678])\n",
      "cci_high tensor([16.7135, 18.5839,  0.0982])\n"
     ]
    }
   ],
   "source": [
    "pcmean,pcvar,q,cci_low,cci_high = fgp.post_cubature_ci(confidence=0.99)\n",
    "print(\"pcmean =\",pcmean)\n",
    "print(\"pcvar =\",pcvar)\n",
    "print(\"cci_low =\",cci_low)\n",
    "print(\"cci_high\",cci_high)"
   ]
  },
  {
   "cell_type": "markdown",
   "metadata": {},
   "source": [
    "## Project and Increase Sample Size"
   ]
  },
  {
   "cell_type": "code",
   "execution_count": 9,
   "metadata": {},
   "outputs": [],
   "source": [
    "n_new = fgp.n*torch.tensor([4,2,8])\n",
    "pcov_future = fgp.post_cov(x,z,n=n_new)\n",
    "pvar_future = fgp.post_var(x,n=n_new)\n",
    "pcvar_future = fgp.post_cubature_var(n=n_new)"
   ]
  },
  {
   "cell_type": "code",
   "execution_count": 10,
   "metadata": {},
   "outputs": [
    {
     "name": "stdout",
     "output_type": "stream",
     "text": [
      "torch.Size([48])\n",
      "torch.Size([4])\n",
      "torch.Size([56])\n",
      "l2 relative error = tensor([0.0152, 0.0605, 0.0048])\n"
     ]
    }
   ],
   "source": [
    "x_next = fgp.get_x_next(n_new)\n",
    "y_next = [fs[i](x_next[i]) for i in range(fgp.num_tasks)]\n",
    "for _y in y_next:\n",
    "    print(_y.shape)\n",
    "fgp.add_y_next(y_next)\n",
    "print(\"l2 relative error =\",(torch.linalg.norm(y-fgp.post_mean(x),dim=1)/torch.linalg.norm(y,dim=1)))\n",
    "assert torch.allclose(fgp.post_cov(x,z),pcov_future)\n",
    "assert torch.allclose(fgp.post_var(x),pvar_future)\n",
    "assert torch.allclose(fgp.post_cubature_var(),pcvar_future)"
   ]
  },
  {
   "cell_type": "code",
   "execution_count": 11,
   "metadata": {},
   "outputs": [
    {
     "name": "stdout",
     "output_type": "stream",
     "text": [
      "l2 relative error = tensor([0.0054, 0.0565, 0.0046])\n"
     ]
    }
   ],
   "source": [
    "data = fgp.fit(verbose=False,store_mll_hist=False,store_scale_hist=False,store_lengthscales_hist=False,store_noise_hist=False)\n",
    "print(\"l2 relative error =\",(torch.linalg.norm(y-fgp.post_mean(x),dim=1)/torch.linalg.norm(y,dim=1)))"
   ]
  },
  {
   "cell_type": "code",
   "execution_count": 12,
   "metadata": {},
   "outputs": [],
   "source": [
    "n_new = fgp.n*torch.tensor([4,8,2])\n",
    "pcov_new = fgp.post_cov(x,z,n=n_new)\n",
    "pvar_new = fgp.post_var(x,n=n_new)\n",
    "pcvar_new = fgp.post_cubature_var(n=n_new)\n",
    "x_next = fgp.get_x_next(n_new)\n",
    "y_next = [fs[i](x_next[i]) for i in range(fgp.num_tasks)]\n",
    "fgp.add_y_next(y_next)\n",
    "assert torch.allclose(fgp.post_cov(x,z),pcov_new)\n",
    "assert torch.allclose(fgp.post_var(x),pvar_new)\n",
    "assert torch.allclose(fgp.post_cubature_var(),pcvar_new)"
   ]
  }
 ],
 "metadata": {
  "kernelspec": {
   "display_name": "fgp",
   "language": "python",
   "name": "python3"
  },
  "language_info": {
   "codemirror_mode": {
    "name": "ipython",
    "version": 3
   },
   "file_extension": ".py",
   "mimetype": "text/x-python",
   "name": "python",
   "nbconvert_exporter": "python",
   "pygments_lexer": "ipython3",
   "version": "3.13.2"
  }
 },
 "nbformat": 4,
 "nbformat_minor": 2
}
