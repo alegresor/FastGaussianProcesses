{
 "cells": [
  {
   "cell_type": "markdown",
   "metadata": {},
   "source": [
    "# Fast Multitask Lattice GP"
   ]
  },
  {
   "cell_type": "code",
   "execution_count": 1,
   "metadata": {
    "execution": {
     "iopub.execute_input": "2025-04-23T04:55:54.632715Z",
     "iopub.status.busy": "2025-04-23T04:55:54.632370Z",
     "iopub.status.idle": "2025-04-23T04:55:55.643676Z",
     "shell.execute_reply": "2025-04-23T04:55:55.643243Z"
    }
   },
   "outputs": [],
   "source": [
    "import fastgps\n",
    "import torch\n",
    "import numpy as np"
   ]
  },
  {
   "cell_type": "code",
   "execution_count": 2,
   "metadata": {
    "execution": {
     "iopub.execute_input": "2025-04-23T04:55:55.645125Z",
     "iopub.status.busy": "2025-04-23T04:55:55.644994Z",
     "iopub.status.idle": "2025-04-23T04:55:55.646652Z",
     "shell.execute_reply": "2025-04-23T04:55:55.646452Z"
    }
   },
   "outputs": [],
   "source": [
    "torch.set_default_dtype(torch.float64)"
   ]
  },
  {
   "cell_type": "markdown",
   "metadata": {},
   "source": [
    "## True Function"
   ]
  },
  {
   "cell_type": "code",
   "execution_count": 3,
   "metadata": {
    "execution": {
     "iopub.execute_input": "2025-04-23T04:55:55.647792Z",
     "iopub.status.busy": "2025-04-23T04:55:55.647723Z",
     "iopub.status.idle": "2025-04-23T04:55:55.651027Z",
     "shell.execute_reply": "2025-04-23T04:55:55.650798Z"
    }
   },
   "outputs": [
    {
     "name": "stdout",
     "output_type": "stream",
     "text": [
      "x.shape = (128, 1)\n",
      "y.shape = (3, 128)\n",
      "z.shape = (256, 1)\n"
     ]
    }
   ],
   "source": [
    "def f_ackley(x, a=20, b=0.2, c=2*np.pi, scaling=32.768):\n",
    "    # https://www.sfu.ca/~ssurjano/ackley.html\n",
    "    assert x.ndim==2\n",
    "    x = 2*scaling*x-scaling\n",
    "    t1 = a*torch.exp(-b*torch.sqrt(torch.mean(x**2,1)))\n",
    "    t2 = torch.exp(torch.mean(torch.cos(c*x),1))\n",
    "    t3 = a+np.exp(1)\n",
    "    y = -t1-t2+t3\n",
    "    return y\n",
    "f_low_fidelity = lambda x: f_ackley(x,c=0)\n",
    "f_high_fidelity = lambda x: f_ackley(x)\n",
    "f_cos = lambda x: torch.cos(2*np.pi*x).sum(1)\n",
    "fs = [f_low_fidelity,f_high_fidelity,f_cos]\n",
    "d = 1 # dimension\n",
    "rng = torch.Generator().manual_seed(17)\n",
    "x = torch.rand((2**7,d),generator=rng) # random testing locations\n",
    "y = torch.vstack([f(x) for f in fs]) # true values at random testing locations\n",
    "z = torch.rand((2**8,d),generator=rng) # other random locations at which to evaluate covariance\n",
    "print(\"x.shape = %s\"%str(tuple(x.shape)))\n",
    "print(\"y.shape = %s\"%str(tuple(y.shape)))\n",
    "print(\"z.shape = %s\"%str(tuple(z.shape)))"
   ]
  },
  {
   "cell_type": "markdown",
   "metadata": {},
   "source": [
    "## Construct Fast GP"
   ]
  },
  {
   "cell_type": "code",
   "execution_count": 4,
   "metadata": {
    "execution": {
     "iopub.execute_input": "2025-04-23T04:55:55.666440Z",
     "iopub.status.busy": "2025-04-23T04:55:55.666320Z",
     "iopub.status.idle": "2025-04-23T04:55:55.676065Z",
     "shell.execute_reply": "2025-04-23T04:55:55.675860Z"
    }
   },
   "outputs": [
    {
     "name": "stdout",
     "output_type": "stream",
     "text": [
      "i = 0\n",
      "\tx_next[0].shape = (64, 1)\n",
      "\ty_next[0].shape = (64,)\n",
      "i = 1\n",
      "\tx_next[1].shape = (8, 1)\n",
      "\ty_next[1].shape = (8,)\n",
      "i = 2\n",
      "\tx_next[2].shape = (256, 1)\n",
      "\ty_next[2].shape = (256,)\n"
     ]
    }
   ],
   "source": [
    "fgp = fastgps.FastGPLattice(d,seed_for_seq=7,num_tasks=len(fs))\n",
    "x_next = fgp.get_x_next(n=[2**6,2**3,2**8])\n",
    "y_next = [fs[i](x_next[i]) for i in range(fgp.num_tasks)]\n",
    "fgp.add_y_next(y_next)\n",
    "assert len(x_next)==len(y_next)\n",
    "for i in range(len(x_next)):\n",
    "    print(\"i = %d\"%i)\n",
    "    print(\"\\tx_next[%d].shape = %s\"%(i,str(tuple(x_next[i].shape))))\n",
    "    print(\"\\ty_next[%d].shape = %s\"%(i,str(tuple(y_next[i].shape))))"
   ]
  },
  {
   "cell_type": "code",
   "execution_count": 5,
   "metadata": {
    "execution": {
     "iopub.execute_input": "2025-04-23T04:55:55.677144Z",
     "iopub.status.busy": "2025-04-23T04:55:55.677073Z",
     "iopub.status.idle": "2025-04-23T04:55:55.686805Z",
     "shell.execute_reply": "2025-04-23T04:55:55.686531Z"
    }
   },
   "outputs": [
    {
     "name": "stdout",
     "output_type": "stream",
     "text": [
      "pmean.shape = (3, 128)\n",
      "l2 relative error = tensor([0.0046, 0.0692, 0.0003])\n"
     ]
    }
   ],
   "source": [
    "pmean = fgp.post_mean(x)\n",
    "print(\"pmean.shape = %s\"%str(tuple(pmean.shape)))\n",
    "print(\"l2 relative error =\",(torch.linalg.norm(y-pmean,dim=1)/torch.linalg.norm(y,dim=1)))"
   ]
  },
  {
   "cell_type": "code",
   "execution_count": 6,
   "metadata": {
    "execution": {
     "iopub.execute_input": "2025-04-23T04:55:55.688226Z",
     "iopub.status.busy": "2025-04-23T04:55:55.688017Z",
     "iopub.status.idle": "2025-04-23T04:55:56.623633Z",
     "shell.execute_reply": "2025-04-23T04:55:56.623374Z"
    }
   },
   "outputs": [
    {
     "name": "stdout",
     "output_type": "stream",
     "text": [
      "     iter of 5.0e+03 | loss       | term1      | term2     \n",
      "    ~~~~~~~~~~~~~~~~~~~~~~~~~~~~~~~~~~~~~~~~~~~~~~~~~~~~~~~\n",
      "            0.00e+00 | 4.82e+03   | 1.17e+04   | -2.67e+03 \n",
      "            5.00e+00 | -3.62e+02  | 8.01e+02   | -2.13e+03 \n",
      "            1.00e+01 | -6.69e+02  | 1.04e+02   | -2.04e+03 \n",
      "            1.50e+01 | -1.26e+03  | 1.74e+02   | -3.30e+03 \n",
      "            2.00e+01 | -1.56e+03  | 2.28e+02   | -3.94e+03 \n",
      "            2.50e+01 | -1.57e+03  | 2.97e+02   | -4.04e+03 \n",
      "            3.00e+01 | -1.57e+03  | 3.14e+02   | -4.06e+03 \n",
      "            3.50e+01 | -1.57e+03  | 3.23e+02   | -4.07e+03 \n",
      "            4.00e+01 | -1.57e+03  | 3.23e+02   | -4.07e+03 \n",
      "            4.50e+01 | -1.57e+03  | 3.22e+02   | -4.07e+03 \n",
      "            5.00e+01 | -1.57e+03  | 3.31e+02   | -4.08e+03 \n",
      "            5.50e+01 | -1.58e+03  | 3.27e+02   | -4.09e+03 \n",
      "            6.00e+01 | -1.58e+03  | 3.20e+02   | -4.09e+03 \n",
      "            6.50e+01 | -1.59e+03  | 3.31e+02   | -4.11e+03 \n",
      "            7.00e+01 | -1.59e+03  | 3.32e+02   | -4.11e+03 \n",
      "            7.50e+01 | -1.59e+03  | 3.27e+02   | -4.10e+03 \n"
     ]
    },
    {
     "name": "stdout",
     "output_type": "stream",
     "text": [
      "            8.00e+01 | -1.59e+03  | 3.25e+02   | -4.10e+03 \n",
      "            8.50e+01 | -1.59e+03  | 3.26e+02   | -4.10e+03 \n",
      "            9.00e+01 | -1.59e+03  | 3.36e+02   | -4.11e+03 \n",
      "            9.50e+01 | -1.59e+03  | 3.25e+02   | -4.10e+03 \n",
      "            1.00e+02 | -1.59e+03  | 3.26e+02   | -4.10e+03 \n",
      "            1.05e+02 | -1.59e+03  | 3.25e+02   | -4.10e+03 \n",
      "            1.10e+02 | -1.59e+03  | 3.24e+02   | -4.10e+03 \n",
      "            1.15e+02 | -1.59e+03  | 3.24e+02   | -4.10e+03 \n",
      "            1.20e+02 | -1.59e+03  | 3.22e+02   | -4.10e+03 \n",
      "            1.25e+02 | -1.59e+03  | 3.25e+02   | -4.10e+03 \n",
      "            1.30e+02 | -1.59e+03  | 3.25e+02   | -4.10e+03 \n",
      "            1.35e+02 | -1.59e+03  | 3.27e+02   | -4.11e+03 \n",
      "            1.40e+02 | -1.59e+03  | 3.24e+02   | -4.10e+03 \n",
      "            1.45e+02 | -1.59e+03  | 3.22e+02   | -4.10e+03 \n",
      "            1.50e+02 | -1.59e+03  | 3.25e+02   | -4.10e+03 \n",
      "            1.55e+02 | -1.59e+03  | 3.25e+02   | -4.10e+03 \n",
      "            1.60e+02 | -1.59e+03  | 3.24e+02   | -4.10e+03 \n",
      "            1.65e+02 | -1.59e+03  | 3.25e+02   | -4.11e+03 \n"
     ]
    },
    {
     "name": "stdout",
     "output_type": "stream",
     "text": [
      "            1.70e+02 | -1.59e+03  | 3.24e+02   | -4.10e+03 \n",
      "            1.75e+02 | -1.59e+03  | 3.24e+02   | -4.10e+03 \n",
      "            1.77e+02 | -1.59e+03  | 3.27e+02   | -4.11e+03 \n"
     ]
    },
    {
     "data": {
      "text/plain": [
       "['iterations']"
      ]
     },
     "execution_count": 6,
     "metadata": {},
     "output_type": "execute_result"
    }
   ],
   "source": [
    "data = fgp.fit()\n",
    "list(data.keys())"
   ]
  },
  {
   "cell_type": "code",
   "execution_count": 7,
   "metadata": {
    "execution": {
     "iopub.execute_input": "2025-04-23T04:55:56.624863Z",
     "iopub.status.busy": "2025-04-23T04:55:56.624764Z",
     "iopub.status.idle": "2025-04-23T04:55:56.742267Z",
     "shell.execute_reply": "2025-04-23T04:55:56.741858Z"
    }
   },
   "outputs": [
    {
     "name": "stdout",
     "output_type": "stream",
     "text": [
      "pmean.shape = (3, 128)\n",
      "pvar.shape = (3, 128)\n",
      "q = 2.58\n",
      "ci_low.shape = (3, 128)\n",
      "ci_high.shape = (3, 128)\n",
      "l2 relative error = tensor([4.7055e-03, 5.7484e-02, 1.1823e-08])\n",
      "pcov.shape = (3, 3, 128, 128)\n",
      "pcov2.shape = (3, 3, 128, 256)\n"
     ]
    }
   ],
   "source": [
    "pmean,pvar,q,ci_low,ci_high = fgp.post_ci(x,confidence=0.99)\n",
    "print(\"pmean.shape = %s\"%str(tuple(pmean.shape)))\n",
    "print(\"pvar.shape = %s\"%str(tuple(pvar.shape)))\n",
    "print(\"q = %.2f\"%q)\n",
    "print(\"ci_low.shape = %s\"%str(tuple(ci_low.shape)))\n",
    "print(\"ci_high.shape = %s\"%str(tuple(ci_high.shape)))\n",
    "print(\"l2 relative error =\",(torch.linalg.norm(y-pmean,dim=1)/torch.linalg.norm(y,dim=1)))\n",
    "pcov = fgp.post_cov(x,x)\n",
    "print(\"pcov.shape = %s\"%str(tuple(pcov.shape)))\n",
    "_range0,_rangen1 = torch.arange(pcov.size(0)),torch.arange(pcov.size(-1))\n",
    "assert torch.allclose(pcov[_range0,_range0][:,_rangen1,_rangen1],pvar) and (pvar>=0).all()\n",
    "pcov2 = fgp.post_cov(x,z)\n",
    "print(\"pcov2.shape = %s\"%str(tuple(pcov2.shape)))"
   ]
  },
  {
   "cell_type": "code",
   "execution_count": 8,
   "metadata": {
    "execution": {
     "iopub.execute_input": "2025-04-23T04:55:56.743576Z",
     "iopub.status.busy": "2025-04-23T04:55:56.743476Z",
     "iopub.status.idle": "2025-04-23T04:55:56.746753Z",
     "shell.execute_reply": "2025-04-23T04:55:56.746484Z"
    }
   },
   "outputs": [
    {
     "name": "stdout",
     "output_type": "stream",
     "text": [
      "pcmean = tensor([ 1.6943e+01,  1.8140e+01, -8.9762e-13])\n",
      "pcvar = tensor([3.5905e-05, 2.9551e-03, 1.3137e-12])\n",
      "cci_low = tensor([ 1.6928e+01,  1.8000e+01, -2.9523e-06])\n",
      "cci_high tensor([1.6959e+01, 1.8280e+01, 2.9523e-06])\n"
     ]
    }
   ],
   "source": [
    "pcmean,pcvar,q,cci_low,cci_high = fgp.post_cubature_ci(confidence=0.99)\n",
    "print(\"pcmean =\",pcmean)\n",
    "print(\"pcvar =\",pcvar)\n",
    "print(\"cci_low =\",cci_low)\n",
    "print(\"cci_high\",cci_high)"
   ]
  },
  {
   "cell_type": "markdown",
   "metadata": {},
   "source": [
    "## Project and Increase Sample Size"
   ]
  },
  {
   "cell_type": "code",
   "execution_count": 9,
   "metadata": {
    "execution": {
     "iopub.execute_input": "2025-04-23T04:55:56.748099Z",
     "iopub.status.busy": "2025-04-23T04:55:56.747901Z",
     "iopub.status.idle": "2025-04-23T04:55:57.366726Z",
     "shell.execute_reply": "2025-04-23T04:55:57.366424Z"
    }
   },
   "outputs": [],
   "source": [
    "n_new = fgp.n*torch.tensor([4,2,8])\n",
    "pcov_future = fgp.post_cov(x,z,n=n_new)\n",
    "pvar_future = fgp.post_var(x,n=n_new)\n",
    "pcvar_future = fgp.post_cubature_var(n=n_new)"
   ]
  },
  {
   "cell_type": "code",
   "execution_count": 10,
   "metadata": {
    "execution": {
     "iopub.execute_input": "2025-04-23T04:55:57.368212Z",
     "iopub.status.busy": "2025-04-23T04:55:57.368111Z",
     "iopub.status.idle": "2025-04-23T04:55:57.979085Z",
     "shell.execute_reply": "2025-04-23T04:55:57.978764Z"
    }
   },
   "outputs": [
    {
     "name": "stdout",
     "output_type": "stream",
     "text": [
      "torch.Size([192])\n",
      "torch.Size([8])\n",
      "torch.Size([1792])\n",
      "l2 relative error = tensor([3.5162e-04, 5.9589e-02, 7.6261e-10])\n"
     ]
    }
   ],
   "source": [
    "x_next = fgp.get_x_next(n_new)\n",
    "y_next = [fs[i](x_next[i]) for i in range(fgp.num_tasks)]\n",
    "for _y in y_next:\n",
    "    print(_y.shape)\n",
    "fgp.add_y_next(y_next)\n",
    "print(\"l2 relative error =\",(torch.linalg.norm(y-fgp.post_mean(x),dim=1)/torch.linalg.norm(y,dim=1)))\n",
    "assert torch.allclose(fgp.post_cov(x,z),pcov_future)\n",
    "assert torch.allclose(fgp.post_var(x),pvar_future)\n",
    "assert torch.allclose(fgp.post_cubature_var(),pcvar_future)"
   ]
  },
  {
   "cell_type": "code",
   "execution_count": 11,
   "metadata": {
    "execution": {
     "iopub.execute_input": "2025-04-23T04:55:57.980539Z",
     "iopub.status.busy": "2025-04-23T04:55:57.980319Z",
     "iopub.status.idle": "2025-04-23T04:56:00.836100Z",
     "shell.execute_reply": "2025-04-23T04:56:00.835724Z"
    }
   },
   "outputs": [
    {
     "name": "stdout",
     "output_type": "stream",
     "text": [
      "l2 relative error = tensor([3.4562e-04, 5.9561e-02, 5.8075e-12])\n"
     ]
    }
   ],
   "source": [
    "data = fgp.fit(verbose=False)\n",
    "print(\"l2 relative error =\",(torch.linalg.norm(y-fgp.post_mean(x),dim=1)/torch.linalg.norm(y,dim=1)))"
   ]
  },
  {
   "cell_type": "code",
   "execution_count": 12,
   "metadata": {
    "execution": {
     "iopub.execute_input": "2025-04-23T04:56:00.837411Z",
     "iopub.status.busy": "2025-04-23T04:56:00.837316Z",
     "iopub.status.idle": "2025-04-23T04:56:03.010960Z",
     "shell.execute_reply": "2025-04-23T04:56:03.010623Z"
    }
   },
   "outputs": [],
   "source": [
    "n_new = fgp.n*torch.tensor([4,8,2])\n",
    "pcov_new = fgp.post_cov(x,z,n=n_new)\n",
    "pvar_new = fgp.post_var(x,n=n_new)\n",
    "pcvar_new = fgp.post_cubature_var(n=n_new)\n",
    "x_next = fgp.get_x_next(n_new)\n",
    "y_next = [fs[i](x_next[i]) for i in range(fgp.num_tasks)]\n",
    "fgp.add_y_next(y_next)\n",
    "assert torch.allclose(fgp.post_cov(x,z),pcov_new)\n",
    "assert torch.allclose(fgp.post_var(x),pvar_new)\n",
    "assert torch.allclose(fgp.post_cubature_var(),pcvar_new)"
   ]
  }
 ],
 "metadata": {
  "kernelspec": {
   "display_name": "fgp",
   "language": "python",
   "name": "python3"
  },
  "language_info": {
   "codemirror_mode": {
    "name": "ipython",
    "version": 3
   },
   "file_extension": ".py",
   "mimetype": "text/x-python",
   "name": "python",
   "nbconvert_exporter": "python",
   "pygments_lexer": "ipython3",
   "version": "3.13.2"
  }
 },
 "nbformat": 4,
 "nbformat_minor": 2
}
