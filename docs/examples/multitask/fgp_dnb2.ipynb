{
 "cells": [
  {
   "cell_type": "markdown",
   "metadata": {},
   "source": [
    "# Fast Multitask Digital Net GP"
   ]
  },
  {
   "cell_type": "code",
   "execution_count": 1,
   "metadata": {},
   "outputs": [],
   "source": [
    "import fastgp\n",
    "import torch\n",
    "import numpy as np"
   ]
  },
  {
   "cell_type": "code",
   "execution_count": 2,
   "metadata": {},
   "outputs": [],
   "source": [
    "torch.set_default_dtype(torch.float64)"
   ]
  },
  {
   "cell_type": "markdown",
   "metadata": {},
   "source": [
    "## True Function"
   ]
  },
  {
   "cell_type": "code",
   "execution_count": 3,
   "metadata": {},
   "outputs": [
    {
     "name": "stdout",
     "output_type": "stream",
     "text": [
      "x.shape = (128, 1)\n",
      "y.shape = (3, 128)\n",
      "z.shape = (256, 1)\n"
     ]
    }
   ],
   "source": [
    "def f_ackley(x, a=20, b=0.2, c=2*np.pi, scaling=32.768):\n",
    "    # https://www.sfu.ca/~ssurjano/ackley.html\n",
    "    assert x.ndim==2\n",
    "    x = 2*scaling*x-scaling\n",
    "    t1 = a*torch.exp(-b*torch.sqrt(torch.mean(x**2,1)))\n",
    "    t2 = torch.exp(torch.mean(torch.cos(c*x),1))\n",
    "    t3 = a+np.exp(1)\n",
    "    y = -t1-t2+t3\n",
    "    return y\n",
    "f_low_fidelity = lambda x: f_ackley(x,c=0)\n",
    "f_high_fidelity = lambda x: f_ackley(x)\n",
    "f_cos = lambda x: torch.cos(2*np.pi*x).sum(1)\n",
    "fs = [f_low_fidelity,f_high_fidelity,f_cos]\n",
    "d = 1 # dimension\n",
    "rng = torch.Generator().manual_seed(17)\n",
    "x = torch.rand((2**7,d),generator=rng) # random testing locations\n",
    "y = torch.vstack([f(x) for f in fs]) # true values at random testing locations\n",
    "z = torch.rand((2**8,d),generator=rng) # other random locations at which to evaluate covariance\n",
    "print(\"x.shape = %s\"%str(tuple(x.shape)))\n",
    "print(\"y.shape = %s\"%str(tuple(y.shape)))\n",
    "print(\"z.shape = %s\"%str(tuple(z.shape)))"
   ]
  },
  {
   "cell_type": "markdown",
   "metadata": {},
   "source": [
    "## Construct Fast GP"
   ]
  },
  {
   "cell_type": "code",
   "execution_count": 4,
   "metadata": {},
   "outputs": [
    {
     "name": "stdout",
     "output_type": "stream",
     "text": [
      "i = 0\n",
      "\tx_next[0].shape = (64, 1)\n",
      "\ty_next[0].shape = (64,)\n",
      "i = 1\n",
      "\tx_next[1].shape = (8, 1)\n",
      "\ty_next[1].shape = (8,)\n",
      "i = 2\n",
      "\tx_next[2].shape = (256, 1)\n",
      "\ty_next[2].shape = (256,)\n"
     ]
    }
   ],
   "source": [
    "fgp = fastgp.FastGPDigitalNetB2(d,seed_for_seq=7,num_tasks=len(fs))\n",
    "x_next = fgp.get_x_next(n=[2**6,2**3,2**8])\n",
    "y_next = [fs[i](x_next[i]) for i in range(fgp.num_tasks)]\n",
    "fgp.add_y_next(y_next)\n",
    "assert len(x_next)==len(y_next)\n",
    "for i in range(len(x_next)):\n",
    "    print(\"i = %d\"%i)\n",
    "    print(\"\\tx_next[%d].shape = %s\"%(i,str(tuple(x_next[i].shape))))\n",
    "    print(\"\\ty_next[%d].shape = %s\"%(i,str(tuple(y_next[i].shape))))"
   ]
  },
  {
   "cell_type": "code",
   "execution_count": 5,
   "metadata": {},
   "outputs": [
    {
     "name": "stdout",
     "output_type": "stream",
     "text": [
      "pmean.shape = (3, 128)\n",
      "l2 relative error = tensor([0.0413, 0.1572, 0.0591])\n"
     ]
    }
   ],
   "source": [
    "pmean = fgp.post_mean(x)\n",
    "print(\"pmean.shape = %s\"%str(tuple(pmean.shape)))\n",
    "print(\"l2 relative error =\",(torch.linalg.norm(y-pmean,dim=1)/torch.linalg.norm(y,dim=1)))"
   ]
  },
  {
   "cell_type": "code",
   "execution_count": 6,
   "metadata": {},
   "outputs": [
    {
     "name": "stdout",
     "output_type": "stream",
     "text": [
      "     iter of 5.0e+03 | NMLL       | noise      | scale      | lengthscales         | task_kernel \n",
      "    ~~~~~~~~~~~~~~~~~~~~~~~~~~~~~~~~~~~~~~~~~~~~~~~~~~~~~~~~~~~~~~~~~~~~~~~~~~~~~~~~~~~~~~~~~~~~~\n",
      "            0.00e+00 | 9.28e+02   | 1.00e-16   | 1.00e+00   | [1.0e+00]            | [[2.0e+00 1.0e+00 1.0e+00] [1.0e+00 2.0e+00 1.0e+00] [1.0e+00 1.0e+00 2.0e+00]]\n",
      "            5.00e+00 | 2.80e+02   | 1.00e-16   | 1.34e+00   | [1.1e+00]            | [[5.1e+00 3.0e+00 4.5e-01] [3.0e+00 5.1e+00 4.5e-01] [4.5e-01 4.5e-01 9.9e-01]]\n",
      "            1.00e+01 | -2.42e+02  | 1.00e-16   | 7.04e-01   | [5.7e-01]            | [[2.6e+01 1.3e+01 2.5e-01] [1.3e+01 2.6e+01 2.5e-01] [2.5e-01 2.5e-01 4.9e-01]]\n",
      "            1.50e+01 | -5.53e+02  | 1.00e-16   | 3.76e-01   | [3.1e-01]            | [[1.3e+02 5.7e+01 9.0e-01] [5.7e+01 4.4e+02 1.1e+00] [9.0e-01 1.1e+00 2.8e-01]]\n",
      "            2.00e+01 | -5.70e+02  | 1.00e-16   | 3.62e-01   | [2.9e-01]            | [[1.4e+02 6.9e+01 8.6e-01] [6.9e+01 9.5e+01 1.1e+00] [8.6e-01 1.1e+00 2.2e-01]]\n",
      "            2.50e+01 | -5.79e+02  | 1.00e-16   | 3.62e-01   | [3.0e-01]            | [[9.7e+01 8.2e+01 5.6e-01] [8.2e+01 9.6e+01 6.5e-01] [5.6e-01 6.5e-01 2.3e-01]]\n",
      "            3.00e+01 | -5.85e+02  | 1.00e-16   | 3.72e-01   | [2.8e-01]            | [[1.1e+02 1.0e+02 7.9e-01] [1.0e+02 1.0e+02 7.9e-01] [7.9e-01 7.9e-01 2.3e-01]]\n",
      "            3.50e+01 | -5.86e+02  | 1.00e-16   | 3.77e-01   | [2.7e-01]            | [[1.2e+02 1.2e+02 7.9e-01] [1.2e+02 1.2e+02 8.0e-01] [7.9e-01 8.0e-01 2.4e-01]]\n",
      "            4.00e+01 | -5.87e+02  | 1.00e-16   | 3.89e-01   | [2.6e-01]            | [[1.2e+02 1.2e+02 8.0e-01] [1.2e+02 1.2e+02 8.1e-01] [8.0e-01 8.1e-01 2.4e-01]]\n",
      "            4.50e+01 | -5.87e+02  | 1.00e-16   | 4.08e-01   | [2.4e-01]            | [[1.3e+02 1.2e+02 8.0e-01] [1.2e+02 1.2e+02 7.9e-01] [8.0e-01 7.9e-01 2.4e-01]]\n",
      "            5.00e+01 | -5.87e+02  | 1.00e-16   | 4.14e-01   | [2.4e-01]            | [[1.3e+02 1.2e+02 8.3e-01] [1.2e+02 1.2e+02 8.2e-01] [8.3e-01 8.2e-01 2.4e-01]]\n",
      "            5.50e+01 | -5.87e+02  | 1.00e-16   | 4.23e-01   | [2.3e-01]            | [[1.3e+02 1.2e+02 8.2e-01] [1.2e+02 1.2e+02 8.1e-01] [8.2e-01 8.1e-01 2.4e-01]]\n",
      "            6.00e+01 | -5.88e+02  | 1.00e-16   | 4.45e-01   | [2.2e-01]            | [[1.3e+02 1.2e+02 8.3e-01] [1.2e+02 1.2e+02 8.2e-01] [8.3e-01 8.2e-01 2.4e-01]]\n",
      "            6.50e+01 | -5.88e+02  | 1.00e-16   | 4.80e-01   | [2.0e-01]            | [[1.3e+02 1.2e+02 8.4e-01] [1.2e+02 1.2e+02 8.2e-01] [8.4e-01 8.2e-01 2.5e-01]]\n",
      "            7.00e+01 | -5.88e+02  | 1.00e-16   | 4.79e-01   | [2.0e-01]            | [[1.3e+02 1.2e+02 8.4e-01] [1.2e+02 1.2e+02 8.2e-01] [8.4e-01 8.2e-01 2.5e-01]]\n",
      "            7.50e+01 | -5.88e+02  | 1.00e-16   | 4.86e-01   | [2.0e-01]            | [[1.3e+02 1.2e+02 8.4e-01] [1.2e+02 1.2e+02 8.2e-01] [8.4e-01 8.2e-01 2.5e-01]]\n",
      "            8.00e+01 | -5.88e+02  | 1.00e-16   | 4.90e-01   | [2.0e-01]            | [[1.3e+02 1.2e+02 8.4e-01] [1.2e+02 1.2e+02 8.1e-01] [8.4e-01 8.1e-01 2.5e-01]]\n",
      "            8.50e+01 | -5.88e+02  | 1.00e-16   | 5.02e-01   | [1.9e-01]            | [[1.3e+02 1.2e+02 8.5e-01] [1.2e+02 1.2e+02 8.2e-01] [8.5e-01 8.2e-01 2.5e-01]]\n",
      "            9.00e+01 | -5.88e+02  | 1.00e-16   | 5.14e-01   | [1.8e-01]            | [[1.3e+02 1.2e+02 8.7e-01] [1.2e+02 1.2e+02 8.3e-01] [8.7e-01 8.3e-01 2.5e-01]]\n",
      "            9.50e+01 | -5.88e+02  | 1.00e-16   | 5.31e-01   | [1.8e-01]            | [[1.3e+02 1.2e+02 8.6e-01] [1.2e+02 1.2e+02 8.3e-01] [8.6e-01 8.3e-01 2.5e-01]]\n",
      "            1.00e+02 | -5.89e+02  | 1.00e-16   | 5.45e-01   | [1.7e-01]            | [[1.3e+02 1.2e+02 8.7e-01] [1.2e+02 1.2e+02 8.3e-01] [8.7e-01 8.3e-01 2.6e-01]]\n",
      "            1.05e+02 | -5.89e+02  | 1.00e-16   | 5.67e-01   | [1.7e-01]            | [[1.3e+02 1.2e+02 8.8e-01] [1.2e+02 1.2e+02 8.3e-01] [8.8e-01 8.3e-01 2.6e-01]]\n",
      "            1.10e+02 | -5.89e+02  | 1.00e-16   | 5.89e-01   | [1.6e-01]            | [[1.3e+02 1.2e+02 8.9e-01] [1.2e+02 1.2e+02 8.4e-01] [8.9e-01 8.4e-01 2.6e-01]]\n",
      "            1.15e+02 | -5.89e+02  | 1.00e-16   | 6.20e-01   | [1.5e-01]            | [[1.3e+02 1.2e+02 9.0e-01] [1.2e+02 1.2e+02 8.4e-01] [9.0e-01 8.4e-01 2.6e-01]]\n",
      "            1.20e+02 | -5.89e+02  | 1.00e-16   | 6.47e-01   | [1.4e-01]            | [[1.3e+02 1.2e+02 9.0e-01] [1.2e+02 1.2e+02 8.5e-01] [9.0e-01 8.5e-01 2.6e-01]]\n",
      "            1.25e+02 | -5.89e+02  | 1.00e-16   | 6.51e-01   | [1.4e-01]            | [[1.3e+02 1.2e+02 9.1e-01] [1.2e+02 1.2e+02 8.5e-01] [9.1e-01 8.5e-01 2.6e-01]]\n",
      "            1.30e+02 | -5.89e+02  | 1.00e-16   | 6.64e-01   | [1.4e-01]            | [[1.3e+02 1.2e+02 9.1e-01] [1.2e+02 1.2e+02 8.5e-01] [9.1e-01 8.5e-01 2.6e-01]]\n",
      "            1.35e+02 | -5.89e+02  | 1.00e-16   | 6.97e-01   | [1.3e-01]            | [[1.3e+02 1.2e+02 9.1e-01] [1.2e+02 1.2e+02 8.5e-01] [9.1e-01 8.5e-01 2.6e-01]]\n",
      "            1.40e+02 | -5.89e+02  | 1.00e-16   | 7.22e-01   | [1.2e-01]            | [[1.3e+02 1.2e+02 9.2e-01] [1.2e+02 1.1e+02 8.5e-01] [9.2e-01 8.5e-01 2.7e-01]]\n",
      "            1.45e+02 | -5.90e+02  | 1.00e-16   | 7.67e-01   | [1.2e-01]            | [[1.3e+02 1.2e+02 9.2e-01] [1.2e+02 1.1e+02 8.5e-01] [9.2e-01 8.5e-01 2.7e-01]]\n",
      "            1.50e+02 | -5.90e+02  | 1.00e-16   | 7.66e-01   | [1.2e-01]            | [[1.3e+02 1.2e+02 9.2e-01] [1.2e+02 1.1e+02 8.5e-01] [9.2e-01 8.5e-01 2.7e-01]]\n",
      "            1.52e+02 | -5.90e+02  | 1.00e-16   | 7.72e-01   | [1.2e-01]            | [[1.3e+02 1.2e+02 9.2e-01] [1.2e+02 1.1e+02 8.5e-01] [9.2e-01 8.5e-01 2.7e-01]]\n"
     ]
    },
    {
     "data": {
      "text/plain": [
       "['mll_hist', 'scale_hist', 'lengthscales_hist', 'task_kernel_hist']"
      ]
     },
     "execution_count": 6,
     "metadata": {},
     "output_type": "execute_result"
    }
   ],
   "source": [
    "data = fgp.fit()\n",
    "list(data.keys())"
   ]
  },
  {
   "cell_type": "code",
   "execution_count": 7,
   "metadata": {},
   "outputs": [
    {
     "name": "stdout",
     "output_type": "stream",
     "text": [
      "pmean.shape = (3, 128)\n",
      "pvar.shape = (3, 128)\n",
      "q = 2.58\n",
      "ci_low.shape = (3, 128)\n",
      "ci_high.shape = (3, 128)\n",
      "l2 relative error = tensor([0.0405, 0.0643, 0.0121])\n",
      "pcov.shape = (3, 3, 128, 128)\n",
      "pcov2.shape = (3, 3, 128, 256)\n"
     ]
    }
   ],
   "source": [
    "pmean,pvar,q,ci_low,ci_high = fgp.post_ci(x,confidence=0.99)\n",
    "print(\"pmean.shape = %s\"%str(tuple(pmean.shape)))\n",
    "print(\"pvar.shape = %s\"%str(tuple(pvar.shape)))\n",
    "print(\"q = %.2f\"%q)\n",
    "print(\"ci_low.shape = %s\"%str(tuple(ci_low.shape)))\n",
    "print(\"ci_high.shape = %s\"%str(tuple(ci_high.shape)))\n",
    "print(\"l2 relative error =\",(torch.linalg.norm(y-pmean,dim=1)/torch.linalg.norm(y,dim=1)))\n",
    "pcov = fgp.post_cov(x,x)\n",
    "print(\"pcov.shape = %s\"%str(tuple(pcov.shape)))\n",
    "_range0,_rangen1 = torch.arange(pcov.size(0)),torch.arange(pcov.size(-1))\n",
    "assert torch.allclose(pcov[_range0,_range0][:,_rangen1,_rangen1],pvar) and (pvar>=0).all()\n",
    "pcov2 = fgp.post_cov(x,z)\n",
    "print(\"pcov2.shape = %s\"%str(tuple(pcov2.shape)))"
   ]
  },
  {
   "cell_type": "code",
   "execution_count": 8,
   "metadata": {},
   "outputs": [
    {
     "name": "stdout",
     "output_type": "stream",
     "text": [
      "pcmean = tensor([ 1.7083e+01,  1.8070e+01, -1.3444e-04])\n",
      "pcvar = tensor([1.6682e-01, 2.4426e-01, 9.3850e-05])\n",
      "cci_low = tensor([16.0311, 16.7967, -0.0251])\n",
      "cci_high tensor([18.1353, 19.3428,  0.0248])\n"
     ]
    }
   ],
   "source": [
    "pcmean,pcvar,q,cci_low,cci_high = fgp.post_cubature_ci(confidence=0.99)\n",
    "print(\"pcmean =\",pcmean)\n",
    "print(\"pcvar =\",pcvar)\n",
    "print(\"cci_low =\",cci_low)\n",
    "print(\"cci_high\",cci_high)"
   ]
  },
  {
   "cell_type": "markdown",
   "metadata": {},
   "source": [
    "## Project and Increase Sample Size"
   ]
  },
  {
   "cell_type": "code",
   "execution_count": 9,
   "metadata": {},
   "outputs": [],
   "source": [
    "n_new = fgp.n*torch.tensor([4,2,8])\n",
    "pcov_future = fgp.post_cov(x,z,n=n_new)\n",
    "pvar_future = fgp.post_var(x,n=n_new)\n",
    "pcvar_future = fgp.post_cubature_var(n=n_new)"
   ]
  },
  {
   "cell_type": "code",
   "execution_count": 10,
   "metadata": {},
   "outputs": [
    {
     "name": "stdout",
     "output_type": "stream",
     "text": [
      "torch.Size([192])\n",
      "torch.Size([8])\n",
      "torch.Size([1792])\n",
      "l2 relative error = tensor([0.0124, 0.0569, 0.0014])\n"
     ]
    }
   ],
   "source": [
    "x_next = fgp.get_x_next(n_new)\n",
    "y_next = [fs[i](x_next[i]) for i in range(fgp.num_tasks)]\n",
    "for _y in y_next:\n",
    "    print(_y.shape)\n",
    "fgp.add_y_next(y_next)\n",
    "print(\"l2 relative error =\",(torch.linalg.norm(y-fgp.post_mean(x),dim=1)/torch.linalg.norm(y,dim=1)))\n",
    "assert torch.allclose(fgp.post_cov(x,z),pcov_future)\n",
    "assert torch.allclose(fgp.post_var(x),pvar_future)\n",
    "assert torch.allclose(fgp.post_cubature_var(),pcvar_future)"
   ]
  },
  {
   "cell_type": "code",
   "execution_count": 11,
   "metadata": {},
   "outputs": [
    {
     "name": "stdout",
     "output_type": "stream",
     "text": [
      "l2 relative error = tensor([0.0110, 0.0589, 0.0014])\n"
     ]
    }
   ],
   "source": [
    "data = fgp.fit(verbose=False,store_mll_hist=False,store_scale_hist=False,store_lengthscales_hist=False,store_noise_hist=False)\n",
    "print(\"l2 relative error =\",(torch.linalg.norm(y-fgp.post_mean(x),dim=1)/torch.linalg.norm(y,dim=1)))"
   ]
  },
  {
   "cell_type": "code",
   "execution_count": 12,
   "metadata": {},
   "outputs": [],
   "source": [
    "n_new = fgp.n*torch.tensor([4,8,2])\n",
    "pcov_new = fgp.post_cov(x,z,n=n_new)\n",
    "pvar_new = fgp.post_var(x,n=n_new)\n",
    "pcvar_new = fgp.post_cubature_var(n=n_new)\n",
    "x_next = fgp.get_x_next(n_new)\n",
    "y_next = [fs[i](x_next[i]) for i in range(fgp.num_tasks)]\n",
    "fgp.add_y_next(y_next)\n",
    "assert torch.allclose(fgp.post_cov(x,z),pcov_new)\n",
    "assert torch.allclose(fgp.post_var(x),pvar_new)\n",
    "assert torch.allclose(fgp.post_cubature_var(),pcvar_new)"
   ]
  }
 ],
 "metadata": {
  "kernelspec": {
   "display_name": "fgp",
   "language": "python",
   "name": "python3"
  },
  "language_info": {
   "codemirror_mode": {
    "name": "ipython",
    "version": 3
   },
   "file_extension": ".py",
   "mimetype": "text/x-python",
   "name": "python",
   "nbconvert_exporter": "python",
   "pygments_lexer": "ipython3",
   "version": "3.13.2"
  }
 },
 "nbformat": 4,
 "nbformat_minor": 2
}
